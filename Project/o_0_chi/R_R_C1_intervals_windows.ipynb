{
 "cells": [
  {
   "cell_type": "markdown",
   "id": "65e59fff-c3b1-4b58-a417-564e43604899",
   "metadata": {
    "tags": []
   },
   "source": [
    "# RR data for Chi meditation"
   ]
  },
  {
   "cell_type": "code",
   "execution_count": 13,
   "id": "1d2610f9-6937-413a-9d39-90b3a6d0bf90",
   "metadata": {
    "tags": []
   },
   "outputs": [],
   "source": [
    "import pandas as pd\n",
    "import wfdb\n",
    "import numpy as np\n",
    "import glob\n"
   ]
  },
  {
   "cell_type": "markdown",
   "id": "cd195764-10f8-4181-84ce-1b0a251f6115",
   "metadata": {},
   "source": [
    "## Step 1: Process C1_pre QRS File \n"
   ]
  },
  {
   "cell_type": "code",
   "execution_count": null,
   "id": "aa66fec4-a5bc-4b25-876e-aa35ef5deecd",
   "metadata": {},
   "outputs": [
    {
     "name": "stdout",
     "output_type": "stream",
     "text": [
      "✅ R-R intervals for C1_pre saved at C:\\Users\\johan\\OneDrive\\Documents\\Sharing file\\School_Grad\\0.2025 courses\\winter\\AMOD_5310H_Artificial Intelligence\\Project\\Project\\dataset\\o_0_chi\\RR_C1_pre.csv\n"
     ]
    }
   ],
   "source": [
    "# RR for Chi C1_pre\n",
    "\n",
    "# Define input and output file paths\n",
    "rr_qrs_file = r\"C:\\Users\\johan\\OneDrive\\Documents\\Sharing file\\School_Grad\\0.2025 courses\\winter\\AMOD_5310H_Artificial Intelligence\\Project\\heart-rate-oscillations-during-meditation-1.0.0\\data\\C1pre\"\n",
    "rr_output_file = r\"C:\\Users\\johan\\OneDrive\\Documents\\Sharing file\\School_Grad\\0.2025 courses\\winter\\AMOD_5310H_Artificial Intelligence\\Project\\Project\\dataset\\o_0_chi\\RR_C1_pre.csv\"\n",
    "\n",
    "\n",
    "\n",
    "# reference for loading rr data [5],[6],[7]\n",
    "# Function to load QRS peaks\n",
    "def load_qrs_peaks(rr_qrs_file):\n",
    "    annotation = wfdb.rdann(rr_qrs_file, 'qrs')  # Read QRS annotations\n",
    "    return annotation.sample  # Extract QRS peak locations\n",
    "\n",
    "# other than the following references[8],[9], Gemini helped to set/organise this code.\n",
    "# Function to compute R-R intervals with time reference:  \n",
    "def compute_rr_intervals_with_time(r_peaks, sampling_rate=250):\n",
    "    rr_intervals = np.diff(r_peaks) / sampling_rate  # Convert to seconds\n",
    "    time_stamps = r_peaks[1:] / sampling_rate  # Time of each R-R interval (aligned with second beat)\n",
    "    return time_stamps, rr_intervals\n",
    "\n",
    "try:\n",
    "    # Load QRS peaks\n",
    "    r_peaks = load_qrs_peaks(rr_qrs_file)\n",
    "\n",
    "    # Compute R-R intervals with time\n",
    "    time_stamps, rr_intervals = compute_rr_intervals_with_time(r_peaks)\n",
    "\n",
    "    # Create DataFrame\n",
    "    df_c1_pre = pd.DataFrame({\"Time\": time_stamps, \"RR_Interval\": rr_intervals})\n",
    "    df_c1_pre[\"Subject\"] = \"C1_pre_rr\"\n",
    "    df_c1_pre[\"Group\"] = \"Chi Meditation\"\n",
    "    df_c1_pre[\"State\"] = \"Pre-Meditation\"\n",
    "\n",
    "    # Save as CSV\n",
    "    df_c1_pre.to_csv(rr_output_file, index=False)\n",
    "    print(f\"✅ R-R intervals for C1_pre saved at {rr_output_file}\")\n",
    "\n",
    "except Exception as e:\n",
    "    print(f\"❌ Error processing C1_pre.qrs: {e}\")\n"
   ]
  },
  {
   "cell_type": "code",
   "execution_count": null,
   "id": "bc4bfaad-8ff0-4664-baa3-7bb22c2c7603",
   "metadata": {},
   "outputs": [],
   "source": []
  },
  {
   "cell_type": "markdown",
   "id": "d12949ae-5e0e-4f85-9ad8-9dbfd0f26600",
   "metadata": {},
   "source": [
    "## Step 2: Process C1_med QRS File "
   ]
  },
  {
   "cell_type": "code",
   "execution_count": 26,
   "id": "1119881e-7f0a-49ef-8863-22fd061112be",
   "metadata": {
    "tags": []
   },
   "outputs": [
    {
     "name": "stdout",
     "output_type": "stream",
     "text": [
      "✅ R-R intervals for C1_med saved at C:\\Users\\johan\\OneDrive\\Documents\\Sharing file\\School_Grad\\0.2025 courses\\winter\\AMOD_5310H_Artificial Intelligence\\Project\\Project\\dataset\\o_0_chi\\RR_C1_med.csv\n"
     ]
    }
   ],
   "source": [
    "# RR for Chi C1_med\n",
    "\n",
    "# Define input and output file paths\n",
    "rr_qrs_file = r\"C:\\Users\\johan\\OneDrive\\Documents\\Sharing file\\School_Grad\\0.2025 courses\\winter\\AMOD_5310H_Artificial Intelligence\\Project\\heart-rate-oscillations-during-meditation-1.0.0\\data\\C1med\"\n",
    "rr_output_file = r\"C:\\Users\\johan\\OneDrive\\Documents\\Sharing file\\School_Grad\\0.2025 courses\\winter\\AMOD_5310H_Artificial Intelligence\\Project\\Project\\dataset\\o_0_chi\\RR_C1_med.csv\"\n",
    "\n",
    "# Function to load QRS peaks\n",
    "def load_qrs_peaks(rr_qrs_file):\n",
    "    annotation = wfdb.rdann(rr_qrs_file, 'qrs')  # Read QRS annotations\n",
    "    return annotation.sample  # Extract QRS peak locations\n",
    "\n",
    "# Function to compute R-R intervals with time reference\n",
    "def compute_rr_intervals_with_time(r_peaks, sampling_rate=250):\n",
    "    rr_intervals = np.diff(r_peaks) / sampling_rate  # Convert to seconds\n",
    "    time_stamps = r_peaks[1:] / sampling_rate  # Time of each R-R interval (aligned with second beat)\n",
    "    return time_stamps, rr_intervals\n",
    "\n",
    "try:\n",
    "    # Load QRS peaks\n",
    "    r_peaks = load_qrs_peaks(rr_qrs_file)\n",
    "\n",
    "    # Compute R-R intervals with time\n",
    "    time_stamps, rr_intervals = compute_rr_intervals_with_time(r_peaks)\n",
    "\n",
    "    # Create DataFrame\n",
    "    df_c1_med = pd.DataFrame({\"Time\": time_stamps, \"RR_Interval\": rr_intervals})\n",
    "    df_c1_med[\"Subject\"] = \"C1_med_rr\"\n",
    "    df_c1_med[\"Group\"] = \"Chi Meditation\"\n",
    "    df_c1_med[\"State\"] = \"Meditation\"\n",
    "\n",
    "    # Save as CSV\n",
    "    df_c1_med.to_csv(rr_output_file, index=False)\n",
    "    print(f\"✅ R-R intervals for C1_med saved at {rr_output_file}\")\n",
    "\n",
    "except Exception as e:\n",
    "    print(f\"❌ Error processing C1_med.qrs: {e}\")\n"
   ]
  },
  {
   "cell_type": "code",
   "execution_count": null,
   "id": "4c13a08b-d98d-4121-9e7b-d07c64d1437e",
   "metadata": {},
   "outputs": [],
   "source": []
  },
  {
   "cell_type": "markdown",
   "id": "d72f4738-8128-400f-9e02-e80e5ee994bd",
   "metadata": {},
   "source": [
    "# Step3: merge C1_pre and C1_med them all"
   ]
  },
  {
   "cell_type": "code",
   "execution_count": 28,
   "id": "5a1b2c99-6a48-4685-a985-cd4c6d5c664a",
   "metadata": {
    "tags": []
   },
   "outputs": [
    {
     "name": "stdout",
     "output_type": "stream",
     "text": [
      "✅ Combined R-R Intervals dataset for C1 saved at:\n",
      "C:\\Users\\johan\\OneDrive\\Documents\\Sharing file\\School_Grad\\0.2025 courses\\winter\\AMOD_5310H_Artificial Intelligence\\Project\\Project\\dataset\\o_0_chi\\final\\RR_data\\RR_C1_merged.csv\n"
     ]
    }
   ],
   "source": [
    "# Step 3: Combine C1_pre and C1_med RR interval files\n",
    "# Define the folder containing R-R interval CSV files\n",
    "output_folder = r\"C:\\Users\\johan\\OneDrive\\Documents\\Sharing file\\School_Grad\\0.2025 courses\\winter\\AMOD_5310H_Artificial Intelligence\\Project\\Project\\dataset\\o_0_chi\"\n",
    "\n",
    "# Define the output path for the final combined dataset\n",
    "final_output_file = rf\"{output_folder}\\final\\RR_data\\RR_C1_merged.csv\"\n",
    "\n",
    "# Get only C1_pre and C1_med files\n",
    "rr_files = [f\"{output_folder}\\\\RR_C1_pre.csv\", f\"{output_folder}\\\\RR_C1_med.csv\"]\n",
    "\n",
    "# Merge the two into a single DataFrame\n",
    "df_combined_rr = pd.concat([pd.read_csv(file) for file in rr_files], ignore_index=True)\n",
    "\n",
    "# Save the final combined dataset\n",
    "df_combined_rr.to_csv(final_output_file, index=False)\n",
    "\n",
    "print(f\"✅ Combined R-R Intervals dataset for C1 saved at:\\n{final_output_file}\")\n"
   ]
  },
  {
   "cell_type": "code",
   "execution_count": null,
   "id": "c3eac8d8-2f6f-463b-bb03-d17661e9e437",
   "metadata": {},
   "outputs": [],
   "source": []
  }
 ],
 "metadata": {
  "kernelspec": {
   "display_name": "Python 3 (ipykernel)",
   "language": "python",
   "name": "python3"
  },
  "language_info": {
   "codemirror_mode": {
    "name": "ipython",
    "version": 3
   },
   "file_extension": ".py",
   "mimetype": "text/x-python",
   "name": "python",
   "nbconvert_exporter": "python",
   "pygments_lexer": "ipython3",
   "version": "3.11.9"
  }
 },
 "nbformat": 4,
 "nbformat_minor": 5
}
