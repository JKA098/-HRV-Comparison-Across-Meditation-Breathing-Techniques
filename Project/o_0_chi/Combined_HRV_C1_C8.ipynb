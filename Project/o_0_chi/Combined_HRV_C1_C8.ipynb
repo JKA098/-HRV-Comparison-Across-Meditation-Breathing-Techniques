{
 "cells": [
  {
   "cell_type": "markdown",
   "id": "ada09a65",
   "metadata": {},
   "source": [
    "## For chi meditation\n",
    "\n"
   ]
  },
  {
   "cell_type": "code",
   "execution_count": 26,
   "id": "aeeab565",
   "metadata": {
    "tags": []
   },
   "outputs": [],
   "source": [
    "import pandas as pd\n",
    "import glob\n"
   ]
  },
  {
   "cell_type": "markdown",
   "id": "53e08af7-9de8-4b72-bdbe-7bdccfc388ec",
   "metadata": {},
   "source": [
    "## For chi combined data"
   ]
  },
  {
   "cell_type": "code",
   "execution_count": 29,
   "id": "119d50f5-47a6-4e8c-a85d-6746223f1279",
   "metadata": {
    "tags": []
   },
   "outputs": [
    {
     "name": "stdout",
     "output_type": "stream",
     "text": [
      "✅ Combined Chi Meditation dataset saved at:\n",
      "C:\\Users\\johan\\OneDrive\\Documents\\Sharing file\\School_Grad\\0.2025 courses\\winter\\AMOD_5310H_Artificial Intelligence\\Project\\Project\\dataset\\o_0_chi\\final\\HRV_data\\Chi_Meditation_Combined.csv\n"
     ]
    }
   ],
   "source": [
    "# Define input and output directories\n",
    "input_folder = r\"C:\\Users\\johan\\OneDrive\\Documents\\Sharing file\\School_Grad\\0.2025 courses\\winter\\AMOD_5310H_Artificial Intelligence\\Project\\Project\\dataset\\o_0_chi\"\n",
    "output_folder = r\"C:\\Users\\johan\\OneDrive\\Documents\\Sharing file\\School_Grad\\0.2025 courses\\winter\\AMOD_5310H_Artificial Intelligence\\Project\\Project\\dataset\\o_0_chi\\final\\HRV_data\"\n",
    "\n",
    "# Use glob to get all merged CSV files for C1 to C8\n",
    "file_list = glob.glob(f\"{input_folder}\\\\C*_merged_data.csv\")\n",
    "\n",
    "# Read all CSV files and combine them\n",
    "chi_combined_df = pd.concat([pd.read_csv(file) for file in file_list], ignore_index=True)\n",
    "\n",
    "# Save the final dataset\n",
    "output_file = f\"{output_folder}\\\\Chi_Meditation_Combined.csv\"\n",
    "chi_combined_df.to_csv(output_file, index=False)\n",
    "\n",
    "print(f\"✅ Combined Chi Meditation dataset saved at:\\n{output_file}\")\n"
   ]
  },
  {
   "cell_type": "code",
   "execution_count": 31,
   "id": "91d28954-fd92-460d-aff9-c05ee0b69279",
   "metadata": {
    "tags": []
   },
   "outputs": [
    {
     "data": {
      "text/html": [
       "<div>\n",
       "<style scoped>\n",
       "    .dataframe tbody tr th:only-of-type {\n",
       "        vertical-align: middle;\n",
       "    }\n",
       "\n",
       "    .dataframe tbody tr th {\n",
       "        vertical-align: top;\n",
       "    }\n",
       "\n",
       "    .dataframe thead th {\n",
       "        text-align: right;\n",
       "    }\n",
       "</style>\n",
       "<table border=\"1\" class=\"dataframe\">\n",
       "  <thead>\n",
       "    <tr style=\"text-align: right;\">\n",
       "      <th></th>\n",
       "      <th>Time</th>\n",
       "      <th>HeartRate</th>\n",
       "      <th>Subject</th>\n",
       "      <th>Group</th>\n",
       "      <th>State</th>\n",
       "    </tr>\n",
       "  </thead>\n",
       "  <tbody>\n",
       "    <tr>\n",
       "      <th>0</th>\n",
       "      <td>15552.672</td>\n",
       "      <td>61.4125</td>\n",
       "      <td>C1_pre</td>\n",
       "      <td>Chi</td>\n",
       "      <td>Pre_Meditation</td>\n",
       "    </tr>\n",
       "    <tr>\n",
       "      <th>1</th>\n",
       "      <td>15553.664</td>\n",
       "      <td>60.4839</td>\n",
       "      <td>C1_pre</td>\n",
       "      <td>Chi</td>\n",
       "      <td>Pre_Meditation</td>\n",
       "    </tr>\n",
       "    <tr>\n",
       "      <th>2</th>\n",
       "      <td>15554.539</td>\n",
       "      <td>68.5714</td>\n",
       "      <td>C1_pre</td>\n",
       "      <td>Chi</td>\n",
       "      <td>Pre_Meditation</td>\n",
       "    </tr>\n",
       "    <tr>\n",
       "      <th>3</th>\n",
       "      <td>15555.461</td>\n",
       "      <td>65.0759</td>\n",
       "      <td>C1_pre</td>\n",
       "      <td>Chi</td>\n",
       "      <td>Pre_Meditation</td>\n",
       "    </tr>\n",
       "    <tr>\n",
       "      <th>4</th>\n",
       "      <td>15556.383</td>\n",
       "      <td>65.0759</td>\n",
       "      <td>C1_pre</td>\n",
       "      <td>Chi</td>\n",
       "      <td>Pre_Meditation</td>\n",
       "    </tr>\n",
       "  </tbody>\n",
       "</table>\n",
       "</div>"
      ],
      "text/plain": [
       "        Time  HeartRate Subject Group           State\n",
       "0  15552.672    61.4125  C1_pre   Chi  Pre_Meditation\n",
       "1  15553.664    60.4839  C1_pre   Chi  Pre_Meditation\n",
       "2  15554.539    68.5714  C1_pre   Chi  Pre_Meditation\n",
       "3  15555.461    65.0759  C1_pre   Chi  Pre_Meditation\n",
       "4  15556.383    65.0759  C1_pre   Chi  Pre_Meditation"
      ]
     },
     "execution_count": 31,
     "metadata": {},
     "output_type": "execute_result"
    }
   ],
   "source": [
    "chi_combined_df = pd.DataFrame(chi_combined_df)\n",
    "chi_combined_df.head()"
   ]
  },
  {
   "cell_type": "code",
   "execution_count": null,
   "id": "3b98c2f0-f80a-4ba7-aff9-c770dd2ca716",
   "metadata": {},
   "outputs": [],
   "source": []
  },
  {
   "cell_type": "code",
   "execution_count": null,
   "id": "90810774-74ec-4ebd-b1b5-35565f98bbdf",
   "metadata": {},
   "outputs": [],
   "source": []
  }
 ],
 "metadata": {
  "kernelspec": {
   "display_name": "Python 3 (ipykernel)",
   "language": "python",
   "name": "python3"
  },
  "language_info": {
   "codemirror_mode": {
    "name": "ipython",
    "version": 3
   },
   "file_extension": ".py",
   "mimetype": "text/x-python",
   "name": "python",
   "nbconvert_exporter": "python",
   "pygments_lexer": "ipython3",
   "version": "3.11.9"
  }
 },
 "nbformat": 4,
 "nbformat_minor": 5
}
