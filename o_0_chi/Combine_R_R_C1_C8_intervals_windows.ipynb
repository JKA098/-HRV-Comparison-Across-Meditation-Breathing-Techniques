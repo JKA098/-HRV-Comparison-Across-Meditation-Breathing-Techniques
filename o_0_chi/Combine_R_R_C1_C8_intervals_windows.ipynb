{
 "cells": [
  {
   "cell_type": "markdown",
   "id": "cd195764-10f8-4181-84ce-1b0a251f6115",
   "metadata": {},
   "source": [
    "## Combine all C1-C8 files\n"
   ]
  },
  {
   "cell_type": "code",
   "execution_count": null,
   "id": "aa66fec4-a5bc-4b25-876e-aa35ef5deecd",
   "metadata": {},
   "outputs": [
    {
     "name": "stdout",
     "output_type": "stream",
     "text": [
      "✅ Combined R-R Intervals dataset saved at:\n",
      "C:\\Users\\johan\\OneDrive\\Documents\\Sharing file\\School_Grad\\0.2025 courses\\winter\\AMOD_5310H_Artificial Intelligence\\Project\\Project\\dataset\\o_0_chi\\final\\RR_data\\RR_Chi_meditation_Combined.csv\n"
     ]
    }
   ],
   "source": [
    "import pandas as pd\n",
    "import glob\n",
    "\n",
    "# Correct folder where the merged RR files are stored\n",
    "merged_folder = r\"C:\\Users\\johan\\OneDrive\\Documents\\Sharing file\\School_Grad\\0.2025 courses\\winter\\AMOD_5310H_Artificial Intelligence\\Project\\Project\\dataset\\o_0_chi\\final\\RR_data\"\n",
    "\n",
    "# Output path for final combined dataset\n",
    "final_output_file = rf\"{merged_folder}\\RR_Chi_meditation_Combined.csv\"\n",
    "\n",
    "# Get all files like RR_C1_merged.csv to RR_C8_merged.csv[10].\n",
    "rr_files = glob.glob(rf\"{merged_folder}\\RR_C*_merged.csv\")\n",
    "\n",
    "# Check that files are found\n",
    "if not rr_files:\n",
    "    print(\"❌ No RR_CX_merged.csv files found. Check file names or path.\")\n",
    "else:\n",
    "    # Merge all found files\n",
    "    df_combined_rr = pd.concat([pd.read_csv(file) for file in rr_files], ignore_index=True)\n",
    "\n",
    "    # Save final combined dataset\n",
    "    df_combined_rr.to_csv(final_output_file, index=False)\n",
    "\n",
    "    print(f\"✅ Combined R-R Intervals dataset saved at:\\n{final_output_file}\")\n"
   ]
  },
  {
   "cell_type": "code",
   "execution_count": null,
   "id": "bc4bfaad-8ff0-4664-baa3-7bb22c2c7603",
   "metadata": {},
   "outputs": [],
   "source": []
  }
 ],
 "metadata": {
  "kernelspec": {
   "display_name": "Python 3 (ipykernel)",
   "language": "python",
   "name": "python3"
  },
  "language_info": {
   "codemirror_mode": {
    "name": "ipython",
    "version": 3
   },
   "file_extension": ".py",
   "mimetype": "text/x-python",
   "name": "python",
   "nbconvert_exporter": "python",
   "pygments_lexer": "ipython3",
   "version": "3.11.9"
  }
 },
 "nbformat": 4,
 "nbformat_minor": 5
}
