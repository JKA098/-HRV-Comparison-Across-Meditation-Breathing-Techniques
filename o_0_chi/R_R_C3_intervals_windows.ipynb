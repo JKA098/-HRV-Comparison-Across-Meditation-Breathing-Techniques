{
 "cells": [
  {
   "cell_type": "markdown",
   "id": "65e59fff-c3b1-4b58-a417-564e43604899",
   "metadata": {
    "tags": []
   },
   "source": [
    "# RR data for Chi meditation"
   ]
  },
  {
   "cell_type": "code",
   "execution_count": 9,
   "id": "1d2610f9-6937-413a-9d39-90b3a6d0bf90",
   "metadata": {
    "tags": []
   },
   "outputs": [],
   "source": [
    "import pandas as pd\n",
    "import wfdb\n",
    "import numpy as np\n",
    "import glob\n"
   ]
  },
  {
   "cell_type": "markdown",
   "id": "cd195764-10f8-4181-84ce-1b0a251f6115",
   "metadata": {},
   "source": [
    "## Step 1: Process C3_pre QRS File \n"
   ]
  },
  {
   "cell_type": "code",
   "execution_count": 12,
   "id": "aa66fec4-a5bc-4b25-876e-aa35ef5deecd",
   "metadata": {},
   "outputs": [
    {
     "name": "stdout",
     "output_type": "stream",
     "text": [
      "✅ R-R intervals for C3_pre saved at C:\\Users\\johan\\OneDrive\\Documents\\Sharing file\\School_Grad\\0.2025 courses\\winter\\AMOD_5310H_Artificial Intelligence\\Project\\Project\\dataset\\o_0_chi\\RR_C3_pre.csv\n"
     ]
    }
   ],
   "source": [
    "# RR for Chi C3_pre\n",
    "\n",
    "# Define input and output file paths\n",
    "rr_qrs_file = r\"C:\\Users\\johan\\OneDrive\\Documents\\Sharing file\\School_Grad\\0.2025 courses\\winter\\AMOD_5310H_Artificial Intelligence\\Project\\heart-rate-oscillations-during-meditation-1.0.0\\data\\C3pre\"\n",
    "rr_output_file = r\"C:\\Users\\johan\\OneDrive\\Documents\\Sharing file\\School_Grad\\0.2025 courses\\winter\\AMOD_5310H_Artificial Intelligence\\Project\\Project\\dataset\\o_0_chi\\RR_C3_pre.csv\"\n",
    "\n",
    "# Function to load QRS peaks\n",
    "def load_qrs_peaks(rr_qrs_file):\n",
    "    annotation = wfdb.rdann(rr_qrs_file, 'qrs')\n",
    "    return annotation.sample\n",
    "\n",
    "def compute_rr_intervals_with_time(r_peaks, sampling_rate=250):\n",
    "    rr_intervals = np.diff(r_peaks) / sampling_rate\n",
    "    time_stamps = r_peaks[1:] / sampling_rate\n",
    "    return time_stamps, rr_intervals\n",
    "\n",
    "try:\n",
    "    r_peaks = load_qrs_peaks(rr_qrs_file)\n",
    "    time_stamps, rr_intervals = compute_rr_intervals_with_time(r_peaks)\n",
    "    df_c3_pre = pd.DataFrame({\"Time\": time_stamps, \"RR_Interval\": rr_intervals})\n",
    "    df_c3_pre[\"Subject\"] = \"C3_pre_rr\"\n",
    "    df_c3_pre[\"Group\"] = \"Chi Meditation\"\n",
    "    df_c3_pre[\"State\"] = \"Pre-Meditation\"\n",
    "    df_c3_pre.to_csv(rr_output_file, index=False)\n",
    "    print(f\"✅ R-R intervals for C3_pre saved at {rr_output_file}\")\n",
    "except Exception as e:\n",
    "    print(f\"❌ Error processing C3_pre.qrs: {e}\")\n"
   ]
  },
  {
   "cell_type": "code",
   "execution_count": null,
   "id": "bc4bfaad-8ff0-4664-baa3-7bb22c2c7603",
   "metadata": {},
   "outputs": [],
   "source": []
  },
  {
   "cell_type": "markdown",
   "id": "d12949ae-5e0e-4f85-9ad8-9dbfd0f26600",
   "metadata": {},
   "source": [
    "## Step 2: Process C3_med QRS File "
   ]
  },
  {
   "cell_type": "code",
   "execution_count": 16,
   "id": "1119881e-7f0a-49ef-8863-22fd061112be",
   "metadata": {
    "tags": []
   },
   "outputs": [
    {
     "name": "stdout",
     "output_type": "stream",
     "text": [
      "✅ R-R intervals for C3_med saved at C:\\Users\\johan\\OneDrive\\Documents\\Sharing file\\School_Grad\\0.2025 courses\\winter\\AMOD_5310H_Artificial Intelligence\\Project\\Project\\dataset\\o_0_chi\\RR_C3_med.csv\n"
     ]
    }
   ],
   "source": [
    "# RR for Chi C3_med\n",
    "\n",
    "# Define input and output file paths\n",
    "rr_qrs_file = r\"C:\\Users\\johan\\OneDrive\\Documents\\Sharing file\\School_Grad\\0.2025 courses\\winter\\AMOD_5310H_Artificial Intelligence\\Project\\heart-rate-oscillations-during-meditation-1.0.0\\data\\C3med\"\n",
    "rr_output_file = r\"C:\\Users\\johan\\OneDrive\\Documents\\Sharing file\\School_Grad\\0.2025 courses\\winter\\AMOD_5310H_Artificial Intelligence\\Project\\Project\\dataset\\o_0_chi\\RR_C3_med.csv\"\n",
    "\n",
    "# Function to load QRS peaks\n",
    "def load_qrs_peaks(rr_qrs_file):\n",
    "    annotation = wfdb.rdann(rr_qrs_file, 'qrs')\n",
    "    return annotation.sample\n",
    "\n",
    "def compute_rr_intervals_with_time(r_peaks, sampling_rate=250):\n",
    "    rr_intervals = np.diff(r_peaks) / sampling_rate\n",
    "    time_stamps = r_peaks[1:] / sampling_rate\n",
    "    return time_stamps, rr_intervals\n",
    "\n",
    "try:\n",
    "    r_peaks = load_qrs_peaks(rr_qrs_file)\n",
    "    time_stamps, rr_intervals = compute_rr_intervals_with_time(r_peaks)\n",
    "    df_c3_med = pd.DataFrame({\"Time\": time_stamps, \"RR_Interval\": rr_intervals})\n",
    "    df_c3_med[\"Subject\"] = \"C3_med_rr\"\n",
    "    df_c3_med[\"Group\"] = \"Chi Meditation\"\n",
    "    df_c3_med[\"State\"] = \"Meditation\"\n",
    "    df_c3_med.to_csv(rr_output_file, index=False)\n",
    "    print(f\"✅ R-R intervals for C3_med saved at {rr_output_file}\")\n",
    "except Exception as e:\n",
    "    print(f\"❌ Error processing C3_med.qrs: {e}\")\n"
   ]
  },
  {
   "cell_type": "code",
   "execution_count": null,
   "id": "4c13a08b-d98d-4121-9e7b-d07c64d1437e",
   "metadata": {},
   "outputs": [],
   "source": []
  },
  {
   "cell_type": "markdown",
   "id": "d72f4738-8128-400f-9e02-e80e5ee994bd",
   "metadata": {},
   "source": [
    "# Step3: combine them all"
   ]
  },
  {
   "cell_type": "code",
   "execution_count": 20,
   "id": "5a1b2c99-6a48-4685-a985-cd4c6d5c664a",
   "metadata": {
    "tags": []
   },
   "outputs": [
    {
     "name": "stdout",
     "output_type": "stream",
     "text": [
      "✅ Combined R-R Intervals dataset for C3 saved at:\n",
      "C:\\Users\\johan\\OneDrive\\Documents\\Sharing file\\School_Grad\\0.2025 courses\\winter\\AMOD_5310H_Artificial Intelligence\\Project\\Project\\dataset\\o_0_chi\\final\\RR_data\\RR_C3_merged.csv\n"
     ]
    }
   ],
   "source": [
    "# Step 3: Combine C3_pre and C3_med RR interval files\n",
    "output_folder = r\"C:\\Users\\johan\\OneDrive\\Documents\\Sharing file\\School_Grad\\0.2025 courses\\winter\\AMOD_5310H_Artificial Intelligence\\Project\\Project\\dataset\\o_0_chi\"\n",
    "final_output_file = rf\"{output_folder}\\final\\RR_data\\RR_C3_merged.csv\"\n",
    "\n",
    "rr_files = [f\"{output_folder}\\\\RR_C3_pre.csv\", f\"{output_folder}\\\\RR_C3_med.csv\"]\n",
    "\n",
    "df_combined_rr = pd.concat([pd.read_csv(file) for file in rr_files], ignore_index=True)\n",
    "df_combined_rr.to_csv(final_output_file, index=False)\n",
    "\n",
    "print(f\"✅ Combined R-R Intervals dataset for C3 saved at:\\n{final_output_file}\")\n"
   ]
  },
  {
   "cell_type": "code",
   "execution_count": null,
   "id": "83f238c4-5998-4c7f-a0fd-b1c88c77215b",
   "metadata": {},
   "outputs": [],
   "source": []
  }
 ],
 "metadata": {
  "kernelspec": {
   "display_name": "Python 3 (ipykernel)",
   "language": "python",
   "name": "python3"
  },
  "language_info": {
   "codemirror_mode": {
    "name": "ipython",
    "version": 3
   },
   "file_extension": ".py",
   "mimetype": "text/x-python",
   "name": "python",
   "nbconvert_exporter": "python",
   "pygments_lexer": "ipython3",
   "version": "3.11.9"
  }
 },
 "nbformat": 4,
 "nbformat_minor": 5
}
