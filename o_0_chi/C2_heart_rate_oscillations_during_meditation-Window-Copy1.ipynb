{
 "cells": [
  {
   "cell_type": "markdown",
   "id": "ada09a65",
   "metadata": {},
   "source": [
    "## For chi meditation\n",
    "\n"
   ]
  },
  {
   "cell_type": "code",
   "execution_count": null,
   "id": "aeeab565",
   "metadata": {
    "tags": []
   },
   "outputs": [],
   "source": [
    "import pandas as pd\n",
    "\n"
   ]
  },
  {
   "cell_type": "markdown",
   "id": "53e08af7-9de8-4b72-bdbe-7bdccfc388ec",
   "metadata": {},
   "source": [
    "### For chi C2.med"
   ]
  },
  {
   "cell_type": "code",
   "execution_count": 5,
   "id": "119d50f5-47a6-4e8c-a85d-6746223f1279",
   "metadata": {
    "tags": []
   },
   "outputs": [
    {
     "name": "stdout",
     "output_type": "stream",
     "text": [
      "✅ CSV file saved successfully at C:\\Users\\johan\\OneDrive\\Documents\\Sharing file\\School_Grad\\0.2025 courses\\winter\\AMOD_5310H_Artificial Intelligence\\Project\\Project\\dataset\\o_0_chi\\C2_meditation.csv!\n"
     ]
    }
   ],
   "source": [
    "# Define file paths for C2.med\n",
    "input_file = r\"C:\\Users\\johan\\OneDrive\\Documents\\Sharing file\\School_Grad\\0.2025 courses\\winter\\AMOD_5310H_Artificial Intelligence\\Project\\heart-rate-oscillations-during-meditation-1.0.0\\data\\chi\\C2.med\"\n",
    "output_file = r\"C:\\Users\\johan\\OneDrive\\Documents\\Sharing file\\School_Grad\\0.2025 courses\\winter\\AMOD_5310H_Artificial Intelligence\\Project\\Project\\dataset\\o_0_chi\\C2_meditation.csv\"\n",
    "\n",
    "# Read the text file and convert to DataFrame\n",
    "df_c2_med = pd.read_csv(input_file, sep=\"\\s+\", header=None, names=[\"Time\", \"HeartRate\"])\n",
    "\n",
    "# Add metadata columns\n",
    "df_c2_med[\"Subject\"] = \"C2_med\"\n",
    "df_c2_med[\"Group\"] = \"Chi\"\n",
    "df_c2_med[\"State\"] = \"Meditation\"\n",
    "\n",
    "# Save as CSV\n",
    "df_c2_med.to_csv(output_file, index=False)\n",
    "\n",
    "print(f\"✅ CSV file saved successfully at {output_file}!\")\n"
   ]
  },
  {
   "cell_type": "code",
   "execution_count": 7,
   "id": "f7b89452-f743-405a-bc02-62127ae46e23",
   "metadata": {
    "tags": []
   },
   "outputs": [
    {
     "data": {
      "text/html": [
       "<div>\n",
       "<style scoped>\n",
       "    .dataframe tbody tr th:only-of-type {\n",
       "        vertical-align: middle;\n",
       "    }\n",
       "\n",
       "    .dataframe tbody tr th {\n",
       "        vertical-align: top;\n",
       "    }\n",
       "\n",
       "    .dataframe thead th {\n",
       "        text-align: right;\n",
       "    }\n",
       "</style>\n",
       "<table border=\"1\" class=\"dataframe\">\n",
       "  <thead>\n",
       "    <tr style=\"text-align: right;\">\n",
       "      <th></th>\n",
       "      <th>Time</th>\n",
       "      <th>HeartRate</th>\n",
       "      <th>Subject</th>\n",
       "      <th>Group</th>\n",
       "      <th>State</th>\n",
       "    </tr>\n",
       "  </thead>\n",
       "  <tbody>\n",
       "    <tr>\n",
       "      <th>0</th>\n",
       "      <td>19877.016</td>\n",
       "      <td>85.3485</td>\n",
       "      <td>C2_med</td>\n",
       "      <td>Chi</td>\n",
       "      <td>Meditation</td>\n",
       "    </tr>\n",
       "    <tr>\n",
       "      <th>1</th>\n",
       "      <td>19877.742</td>\n",
       "      <td>82.5309</td>\n",
       "      <td>C2_med</td>\n",
       "      <td>Chi</td>\n",
       "      <td>Meditation</td>\n",
       "    </tr>\n",
       "    <tr>\n",
       "      <th>2</th>\n",
       "      <td>19878.477</td>\n",
       "      <td>81.7439</td>\n",
       "      <td>C2_med</td>\n",
       "      <td>Chi</td>\n",
       "      <td>Meditation</td>\n",
       "    </tr>\n",
       "    <tr>\n",
       "      <th>3</th>\n",
       "      <td>19879.195</td>\n",
       "      <td>83.4492</td>\n",
       "      <td>C2_med</td>\n",
       "      <td>Chi</td>\n",
       "      <td>Meditation</td>\n",
       "    </tr>\n",
       "    <tr>\n",
       "      <th>4</th>\n",
       "      <td>19879.906</td>\n",
       "      <td>84.3882</td>\n",
       "      <td>C2_med</td>\n",
       "      <td>Chi</td>\n",
       "      <td>Meditation</td>\n",
       "    </tr>\n",
       "  </tbody>\n",
       "</table>\n",
       "</div>"
      ],
      "text/plain": [
       "        Time  HeartRate Subject Group       State\n",
       "0  19877.016    85.3485  C2_med   Chi  Meditation\n",
       "1  19877.742    82.5309  C2_med   Chi  Meditation\n",
       "2  19878.477    81.7439  C2_med   Chi  Meditation\n",
       "3  19879.195    83.4492  C2_med   Chi  Meditation\n",
       "4  19879.906    84.3882  C2_med   Chi  Meditation"
      ]
     },
     "execution_count": 7,
     "metadata": {},
     "output_type": "execute_result"
    }
   ],
   "source": [
    "df_c2_med = pd.DataFrame(df_c2_med)\n",
    "df_c2_med.head()"
   ]
  },
  {
   "cell_type": "markdown",
   "id": "04d232f2",
   "metadata": {},
   "source": [
    "## For chi C2.pre"
   ]
  },
  {
   "cell_type": "code",
   "execution_count": 9,
   "id": "519ce37d-87bf-4d34-b461-2b9f18c04675",
   "metadata": {
    "tags": []
   },
   "outputs": [
    {
     "name": "stdout",
     "output_type": "stream",
     "text": [
      "✅ CSV file saved successfully at C:\\Users\\johan\\OneDrive\\Documents\\Sharing file\\School_Grad\\0.2025 courses\\winter\\AMOD_5310H_Artificial Intelligence\\Project\\Project\\dataset\\o_0_chi\\C2_pre_meditation.csv!\n"
     ]
    }
   ],
   "source": [
    "input_file = r\"C:\\Users\\johan\\OneDrive\\Documents\\Sharing file\\School_Grad\\0.2025 courses\\winter\\AMOD_5310H_Artificial Intelligence\\Project\\heart-rate-oscillations-during-meditation-1.0.0\\data\\chi\\C2.pre\"\n",
    "output_file = r\"C:\\Users\\johan\\OneDrive\\Documents\\Sharing file\\School_Grad\\0.2025 courses\\winter\\AMOD_5310H_Artificial Intelligence\\Project\\Project\\dataset\\o_0_chi\\C2_pre_meditation.csv\"\n",
    "\n",
    "# Read the text file and convert to DataFrame\n",
    "df_c2_pre = pd.read_csv(input_file, sep=\"\\s+\", header=None, names=[\"Time\", \"HeartRate\"])\n",
    "\n",
    "# Add metadata columns\n",
    "df_c2_pre[\"Subject\"] = \"C2_pre\"\n",
    "df_c2_pre[\"Group\"] = \"Chi\"\n",
    "df_c2_pre[\"State\"] = \"Pre-Meditation\"\n",
    "\n",
    "# Save as CSV\n",
    "df_c2_pre.to_csv(output_file, index=False)\n",
    "\n",
    "print(f\"✅ CSV file saved successfully at {output_file}!\")\n"
   ]
  },
  {
   "cell_type": "code",
   "execution_count": 16,
   "id": "aff0eed1-8b0d-4f4c-9a62-1dca47935e94",
   "metadata": {
    "tags": []
   },
   "outputs": [
    {
     "data": {
      "text/html": [
       "<div>\n",
       "<style scoped>\n",
       "    .dataframe tbody tr th:only-of-type {\n",
       "        vertical-align: middle;\n",
       "    }\n",
       "\n",
       "    .dataframe tbody tr th {\n",
       "        vertical-align: top;\n",
       "    }\n",
       "\n",
       "    .dataframe thead th {\n",
       "        text-align: right;\n",
       "    }\n",
       "</style>\n",
       "<table border=\"1\" class=\"dataframe\">\n",
       "  <thead>\n",
       "    <tr style=\"text-align: right;\">\n",
       "      <th></th>\n",
       "      <th>Time</th>\n",
       "      <th>HeartRate</th>\n",
       "      <th>Subject</th>\n",
       "      <th>Group</th>\n",
       "      <th>State</th>\n",
       "    </tr>\n",
       "  </thead>\n",
       "  <tbody>\n",
       "    <tr>\n",
       "      <th>0</th>\n",
       "      <td>15552.672</td>\n",
       "      <td>61.4125</td>\n",
       "      <td>C1_pre</td>\n",
       "      <td>Chi Pre_Meditation</td>\n",
       "      <td>Pre_Meditation</td>\n",
       "    </tr>\n",
       "    <tr>\n",
       "      <th>1</th>\n",
       "      <td>15553.664</td>\n",
       "      <td>60.4839</td>\n",
       "      <td>C1_pre</td>\n",
       "      <td>Chi Pre_Meditation</td>\n",
       "      <td>Pre_Meditation</td>\n",
       "    </tr>\n",
       "    <tr>\n",
       "      <th>2</th>\n",
       "      <td>15554.539</td>\n",
       "      <td>68.5714</td>\n",
       "      <td>C1_pre</td>\n",
       "      <td>Chi Pre_Meditation</td>\n",
       "      <td>Pre_Meditation</td>\n",
       "    </tr>\n",
       "    <tr>\n",
       "      <th>3</th>\n",
       "      <td>15555.461</td>\n",
       "      <td>65.0759</td>\n",
       "      <td>C1_pre</td>\n",
       "      <td>Chi Pre_Meditation</td>\n",
       "      <td>Pre_Meditation</td>\n",
       "    </tr>\n",
       "    <tr>\n",
       "      <th>4</th>\n",
       "      <td>15556.383</td>\n",
       "      <td>65.0759</td>\n",
       "      <td>C1_pre</td>\n",
       "      <td>Chi Pre_Meditation</td>\n",
       "      <td>Pre_Meditation</td>\n",
       "    </tr>\n",
       "  </tbody>\n",
       "</table>\n",
       "</div>"
      ],
      "text/plain": [
       "        Time  HeartRate Subject               Group           State\n",
       "0  15552.672    61.4125  C1_pre  Chi Pre_Meditation  Pre_Meditation\n",
       "1  15553.664    60.4839  C1_pre  Chi Pre_Meditation  Pre_Meditation\n",
       "2  15554.539    68.5714  C1_pre  Chi Pre_Meditation  Pre_Meditation\n",
       "3  15555.461    65.0759  C1_pre  Chi Pre_Meditation  Pre_Meditation\n",
       "4  15556.383    65.0759  C1_pre  Chi Pre_Meditation  Pre_Meditation"
      ]
     },
     "execution_count": 16,
     "metadata": {},
     "output_type": "execute_result"
    }
   ],
   "source": [
    "df_chi_pre_df = pd.DataFrame(df_chi_pre)\n",
    "df_chi_pre_df.head()"
   ]
  },
  {
   "cell_type": "markdown",
   "id": "79bf5323-7a2c-4a2e-b160-d98550134e33",
   "metadata": {},
   "source": [
    "# Combine chi_med and chi_pre together"
   ]
  },
  {
   "cell_type": "code",
   "execution_count": 11,
   "id": "443652be-f441-4f38-830d-1e20a2883c04",
   "metadata": {
    "tags": []
   },
   "outputs": [
    {
     "name": "stdout",
     "output_type": "stream",
     "text": [
      "🚀 Merged CSV file saved successfully at C:\\Users\\johan\\OneDrive\\Documents\\Sharing file\\School_Grad\\0.2025 courses\\winter\\AMOD_5310H_Artificial Intelligence\\Project\\Project\\dataset\\o_0_chi\\C2_merged_data.csv!\n"
     ]
    }
   ],
   "source": [
    "file_c2_med = r\"C:\\Users\\johan\\OneDrive\\Documents\\Sharing file\\School_Grad\\0.2025 courses\\winter\\AMOD_5310H_Artificial Intelligence\\Project\\Project\\dataset\\o_0_chi\\C2_meditation.csv\"\n",
    "file_c2_pre = r\"C:\\Users\\johan\\OneDrive\\Documents\\Sharing file\\School_Grad\\0.2025 courses\\winter\\AMOD_5310H_Artificial Intelligence\\Project\\Project\\dataset\\o_0_chi\\C2_pre_meditation.csv\"\n",
    "\n",
    "# Read both datasets\n",
    "df_med = pd.read_csv(file_c2_med)\n",
    "df_pre = pd.read_csv(file_c2_pre)\n",
    "\n",
    "# Ensure both DataFrames have the same structure\n",
    "expected_columns = [\"Time\", \"HeartRate\", \"Subject\", \"Group\", \"State\"]\n",
    "df_med = df_med[expected_columns]\n",
    "df_pre = df_pre[expected_columns]\n",
    "\n",
    "# Merge the two DataFrames\n",
    "c2_merged_df = pd.concat([df_pre, df_med], ignore_index=True)\n",
    "\n",
    "# Define output file path for merged dataset\n",
    "merged_file = r\"C:\\Users\\johan\\OneDrive\\Documents\\Sharing file\\School_Grad\\0.2025 courses\\winter\\AMOD_5310H_Artificial Intelligence\\Project\\Project\\dataset\\o_0_chi\\C2_merged_data.csv\"\n",
    "\n",
    "# Save merged dataset as CSV\n",
    "c2_merged_df.to_csv(merged_file, index=False)\n",
    "\n",
    "print(f\"🚀 Merged CSV file saved successfully at {merged_file}!\")\n"
   ]
  },
  {
   "cell_type": "code",
   "execution_count": 13,
   "id": "9931e8dd-4d4f-49d2-ad77-298f834f90bd",
   "metadata": {
    "tags": []
   },
   "outputs": [
    {
     "data": {
      "text/html": [
       "<div>\n",
       "<style scoped>\n",
       "    .dataframe tbody tr th:only-of-type {\n",
       "        vertical-align: middle;\n",
       "    }\n",
       "\n",
       "    .dataframe tbody tr th {\n",
       "        vertical-align: top;\n",
       "    }\n",
       "\n",
       "    .dataframe thead th {\n",
       "        text-align: right;\n",
       "    }\n",
       "</style>\n",
       "<table border=\"1\" class=\"dataframe\">\n",
       "  <thead>\n",
       "    <tr style=\"text-align: right;\">\n",
       "      <th></th>\n",
       "      <th>Time</th>\n",
       "      <th>HeartRate</th>\n",
       "      <th>Subject</th>\n",
       "      <th>Group</th>\n",
       "      <th>State</th>\n",
       "    </tr>\n",
       "  </thead>\n",
       "  <tbody>\n",
       "    <tr>\n",
       "      <th>0</th>\n",
       "      <td>16281.680</td>\n",
       "      <td>72.4638</td>\n",
       "      <td>C2_pre</td>\n",
       "      <td>Chi</td>\n",
       "      <td>Pre-Meditation</td>\n",
       "    </tr>\n",
       "    <tr>\n",
       "      <th>1</th>\n",
       "      <td>16282.570</td>\n",
       "      <td>67.3401</td>\n",
       "      <td>C2_pre</td>\n",
       "      <td>Chi</td>\n",
       "      <td>Pre-Meditation</td>\n",
       "    </tr>\n",
       "    <tr>\n",
       "      <th>2</th>\n",
       "      <td>16283.469</td>\n",
       "      <td>66.8151</td>\n",
       "      <td>C2_pre</td>\n",
       "      <td>Chi</td>\n",
       "      <td>Pre-Meditation</td>\n",
       "    </tr>\n",
       "    <tr>\n",
       "      <th>3</th>\n",
       "      <td>16284.328</td>\n",
       "      <td>69.8487</td>\n",
       "      <td>C2_pre</td>\n",
       "      <td>Chi</td>\n",
       "      <td>Pre-Meditation</td>\n",
       "    </tr>\n",
       "    <tr>\n",
       "      <th>4</th>\n",
       "      <td>16285.266</td>\n",
       "      <td>63.9659</td>\n",
       "      <td>C2_pre</td>\n",
       "      <td>Chi</td>\n",
       "      <td>Pre-Meditation</td>\n",
       "    </tr>\n",
       "  </tbody>\n",
       "</table>\n",
       "</div>"
      ],
      "text/plain": [
       "        Time  HeartRate Subject Group           State\n",
       "0  16281.680    72.4638  C2_pre   Chi  Pre-Meditation\n",
       "1  16282.570    67.3401  C2_pre   Chi  Pre-Meditation\n",
       "2  16283.469    66.8151  C2_pre   Chi  Pre-Meditation\n",
       "3  16284.328    69.8487  C2_pre   Chi  Pre-Meditation\n",
       "4  16285.266    63.9659  C2_pre   Chi  Pre-Meditation"
      ]
     },
     "execution_count": 13,
     "metadata": {},
     "output_type": "execute_result"
    }
   ],
   "source": [
    "c2_merged_df = pd.DataFrame(c2_merged_df)\n",
    "c2_merged_df.head()"
   ]
  }
 ],
 "metadata": {
  "kernelspec": {
   "display_name": "Python 3 (ipykernel)",
   "language": "python",
   "name": "python3"
  },
  "language_info": {
   "codemirror_mode": {
    "name": "ipython",
    "version": 3
   },
   "file_extension": ".py",
   "mimetype": "text/x-python",
   "name": "python",
   "nbconvert_exporter": "python",
   "pygments_lexer": "ipython3",
   "version": "3.11.9"
  }
 },
 "nbformat": 4,
 "nbformat_minor": 5
}
